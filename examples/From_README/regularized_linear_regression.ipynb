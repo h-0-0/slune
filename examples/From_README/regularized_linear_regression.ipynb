{
 "cells": [
  {
   "cell_type": "markdown",
   "metadata": {},
   "source": [
    "# Slune quick-start demo: simple regularised linear regression\n",
    "\n",
    "This notebook walks through the minimal \"hello, world\" workflow for **slune-lib**:\n",
    "\n",
    "1. Define and train a simple regularised linear regression model.\n",
    "2. Log an evaluation metric (mean-squared error) using a `SaverCsv`.\n",
    "3. Submit a small grid search of the regularisation parameter via `sbatchit`.\n",
    "4. Query the logged results to find the best parameter value.\n",
    "\n",
    "Prerequisites 📋  \n",
    "• A machine with SLURM (`sbatch`) available – you can still run the local parts without it.  \n",
    "• `pip install slune-lib`.\n",
    "\n",
    "We keep the modelling code intentionally tiny so the focus stays on slune’s API."
   ]
  },
  {
   "cell_type": "code",
   "execution_count": 1,
   "metadata": {},
   "outputs": [
    {
     "ename": "ValueError",
     "evalue": "could not convert string to float: '--f=/Users/jd18380/Library/Jupyter/runtime/kernel-v3ad3d407b1de8db4312ce3a7fdc4f697528c064ae.json'",
     "output_type": "error",
     "traceback": [
      "\u001b[31m---------------------------------------------------------------------------\u001b[39m",
      "\u001b[31mValueError\u001b[39m                                Traceback (most recent call last)",
      "\u001b[36mCell\u001b[39m\u001b[36m \u001b[39m\u001b[32mIn[1]\u001b[39m\u001b[32m, line 43\u001b[39m\n\u001b[32m     41\u001b[39m \u001b[38;5;28;01mfrom\u001b[39;00m \u001b[34;01mslune\u001b[39;00m \u001b[38;5;28;01mimport\u001b[39;00m lsargs\n\u001b[32m     42\u001b[39m python_path, args = lsargs()\n\u001b[32m---> \u001b[39m\u001b[32m43\u001b[39m alpha = \u001b[38;5;28;43mfloat\u001b[39;49m\u001b[43m(\u001b[49m\u001b[43margs\u001b[49m\u001b[43m[\u001b[49m\u001b[32;43m0\u001b[39;49m\u001b[43m]\u001b[49m\u001b[43m)\u001b[49m\n\u001b[32m     45\u001b[39m \u001b[38;5;66;03m# Mock training dataset, function is y = 1 + 1 * x\u001b[39;00m\n\u001b[32m     46\u001b[39m X = [\u001b[32m1\u001b[39m, \u001b[32m2\u001b[39m, \u001b[32m3\u001b[39m, \u001b[32m4\u001b[39m, \u001b[32m5\u001b[39m]\n",
      "\u001b[31mValueError\u001b[39m: could not convert string to float: '--f=/Users/jd18380/Library/Jupyter/runtime/kernel-v3ad3d407b1de8db4312ce3a7fdc4f697528c064ae.json'"
     ]
    }
   ],
   "source": [
    "# Create/overwrite `model.py` – tiny training script that slune will run on the cluster\n",
    "import textwrap, pathlib\n",
    "\n",
    "model_code = textwrap.dedent('''\n",
    "import argparse\n",
    "from slune import get_csv_saver\n",
    "\n",
    "# ---------- tiny \"model\" ----------\n",
    "X_TEST = [6, 7, 8]\n",
    "Y_TEST = [7, 8, 9]\n",
    "\n",
    "def predict(x, alpha):\n",
    "    # Toy linear prediction with a regularisation bias\n",
    "    return 1 + x + alpha\n",
    "\n",
    "\n",
    "def mse(y_true, y_pred):\n",
    "    return sum((yt - yp) ** 2 for yt, yp in zip(y_true, y_pred)) / len(y_true)\n",
    "# ----------------------------------\n",
    "\n",
    "if __name__ == \"__main__\":\n",
    "    parser = argparse.ArgumentParser()\n",
    "    parser.add_argument(\"--alpha\", type=float, required=True)\n",
    "    args = parser.parse_args()\n",
    "\n",
    "    predictions = [predict(x, args.alpha) for x in X_TEST]\n",
    "    metric = mse(Y_TEST, predictions)\n",
    "\n",
    "    saver = get_csv_saver(params={\"alpha\": args.alpha})\n",
    "    saver.log({\"mse\": metric})\n",
    "    saver.save_collated()\n",
    "''')\n",
    "\n",
    "pathlib.Path(\"model.py\").write_text(model_code)\n",
    "print(\"✅ Wrote/updated model.py ({} bytes)\".format(len(model_code)))"
   ]
  },
  {
   "cell_type": "markdown",
   "metadata": {},
   "source": [
    "## 1️⃣ Generate the training script\n",
    "\n",
    "Run the previous cell to create `model.py` in this folder. The script:\n",
    "\n",
    "* parses `--alpha=<value>` from the command line,\n",
    "* evaluates a toy regularised linear regression on a dummy dataset,\n",
    "* logs the mean-squared error with a default `SaverCsv`.\n",
    "\n",
    "👉  You can open `model.py` to inspect or customise it before queuing jobs."
   ]
  },
  {
   "cell_type": "code",
   "execution_count": null,
   "metadata": {},
   "outputs": [],
   "source": [
    "from slune.searchers import SearcherGrid\n",
    "from slune import sbatchit\n",
    "\n",
    "# 2️⃣ Launch the grid search on the cluster\n",
    "searcher = SearcherGrid({'alpha': [0.25, 0.5, 0.75]}, runs=1)\n",
    "\n",
    "sbatchit(\n",
    "    script_path=\"model.py\",\n",
    "    sbatch_path=\"template.sh\",  # adjust SBATCH directives to your cluster\n",
    "    searcher=searcher,\n",
    "    cargs={},\n",
    "    saver=None  # provide a Saver to avoid re-running completed jobs\n",
    ")\n"
   ]
  },
  {
   "cell_type": "markdown",
   "metadata": {},
   "source": [
    "Once the jobs have finished (monitor them with `squeue` or your favourite SLURM UI), you can load the collated CSV and inspect the best configuration:"
   ]
  },
  {
   "cell_type": "code",
   "execution_count": null,
   "metadata": {},
   "outputs": [],
   "source": [
    "from slune import get_csv_saver\n",
    "\n",
    "# 3️⃣ Retrieve results\n",
    "saver = get_csv_saver()\n",
    "params, mse = saver.read(params=[], metric_name=\"mse\", select_by=\"min\")\n",
    "print(\"Best hyper-parameters:\", params)\n",
    "print(\"MSE:\", mse)\n"
   ]
  }
 ],
 "metadata": {
  "kernelspec": {
   "display_name": ".venv",
   "language": "python",
   "name": "python3"
  },
  "language_info": {
   "codemirror_mode": {
    "name": "ipython",
    "version": 3
   },
   "file_extension": ".py",
   "mimetype": "text/x-python",
   "name": "python",
   "nbconvert_exporter": "python",
   "pygments_lexer": "ipython3",
   "version": "3.11.6"
  }
 },
 "nbformat": 4,
 "nbformat_minor": 2
}
